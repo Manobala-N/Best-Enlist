{
 "cells": [
  {
   "cell_type": "code",
   "execution_count": 1,
   "id": "d83cc04d",
   "metadata": {},
   "outputs": [
    {
     "name": "stdout",
     "output_type": "stream",
     "text": [
      "2021-07-09 18:55:00\n"
     ]
    }
   ],
   "source": [
    "## 1. Write a Python program to convert a string to datetime\n",
    "\n",
    "from datetime import datetime\n",
    "Date_In_String = datetime.strptime('Jul 9 2021 6:55PM', '%b %d %Y %I:%M%p')\n",
    "print(Date_In_String)"
   ]
  },
  {
   "cell_type": "code",
   "execution_count": 2,
   "id": "2c471849",
   "metadata": {},
   "outputs": [
    {
     "name": "stdout",
     "output_type": "stream",
     "text": [
      "Current Date : 2021-07-09\n",
      "5 days before Current Date : 2021-07-04\n"
     ]
    }
   ],
   "source": [
    "## 2. Write a Python program to subtract five days (last working day) from current date\n",
    "\n",
    "from datetime import date, timedelta\n",
    "dt = date.today() - timedelta(5)\n",
    "print('Current Date :',date.today())\n",
    "print('5 days before Current Date :',dt)"
   ]
  },
  {
   "cell_type": "code",
   "execution_count": 3,
   "id": "d0e64d81",
   "metadata": {},
   "outputs": [
    {
     "name": "stdout",
     "output_type": "stream",
     "text": [
      "2021-07-09 00:00:00\n"
     ]
    }
   ],
   "source": [
    "## 3. Write a Python program to convert the date to datetime using a function\n",
    "\n",
    "from datetime import date\n",
    "from datetime import datetime\n",
    "dt = date.today()\n",
    "print(datetime.combine(dt, datetime.min.time()))"
   ]
  },
  {
   "cell_type": "code",
   "execution_count": 4,
   "id": "77de80b8",
   "metadata": {},
   "outputs": [
    {
     "name": "stdout",
     "output_type": "stream",
     "text": [
      "2021-07-09 19:16:36.982515\n",
      "2021-07-10 19:16:36.982515\n",
      "2021-07-11 19:16:36.982515\n",
      "2021-07-12 19:16:36.982515\n",
      "2021-07-13 19:16:36.982515\n"
     ]
    }
   ],
   "source": [
    "## 4. Write a Python program to print next 7 days (week) starting from today\n",
    "\n",
    "import datetime\n",
    "base = datetime.datetime.today()\n",
    "for x in range(0, 5):\n",
    "      print(base + datetime.timedelta(days=x))"
   ]
  }
 ],
 "metadata": {
  "kernelspec": {
   "display_name": "Python 3",
   "language": "python",
   "name": "python3"
  },
  "language_info": {
   "codemirror_mode": {
    "name": "ipython",
    "version": 3
   },
   "file_extension": ".py",
   "mimetype": "text/x-python",
   "name": "python",
   "nbconvert_exporter": "python",
   "pygments_lexer": "ipython3",
   "version": "3.9.5"
  }
 },
 "nbformat": 4,
 "nbformat_minor": 5
}
