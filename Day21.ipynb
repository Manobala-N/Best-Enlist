{
 "cells": [
  {
   "cell_type": "code",
   "execution_count": 1,
   "id": "64a06b26",
   "metadata": {},
   "outputs": [
    {
     "name": "stdout",
     "output_type": "stream",
     "text": [
      "(('Sachin', 'Tendulkar'), ('Ms', 'Dhoni'), ('Suresh', 'Raina'))\n"
     ]
    }
   ],
   "source": [
    "# 1. Write a program using zip() function and list() function, create amerged list of tuples from the two lists given.\n",
    "\n",
    "def merge(list1, list2):\n",
    "      \n",
    "    merged_list = tuple(zip(list1, list2)) \n",
    "    return merged_list\n",
    "      \n",
    "# Driver code\n",
    "list1 = ['Sachin','Ms','Suresh']\n",
    "list2 = ['Tendulkar', 'Dhoni', 'Raina']\n",
    "print(merge(list1, list2))"
   ]
  },
  {
   "cell_type": "code",
   "execution_count": 3,
   "id": "1938c977",
   "metadata": {},
   "outputs": [
    {
     "name": "stdout",
     "output_type": "stream",
     "text": [
      "((1, 'One'), (2, 'Two'), (3, 'Three'), (4, 'Four'), (5, 'Five'), (6, 'Six'), (7, 'Seven'))\n"
     ]
    }
   ],
   "source": [
    "# 2.First create a range from 1 to 8. Then using zip, merge the given list and the range together to create a new list of tuples.\n",
    "\n",
    "R = list(range(1,8))\n",
    "\n",
    "L=[\"One\", \"Two\", \"Three\", \"Four\", \"Five\", \"Six\", \"Seven\"]\n",
    "\n",
    "lst = tuple(zip(R,L))\n",
    "\n",
    "print(lst)"
   ]
  },
  {
   "cell_type": "code",
   "execution_count": 4,
   "id": "4b88c841",
   "metadata": {},
   "outputs": [
    {
     "name": "stdout",
     "output_type": "stream",
     "text": [
      "['a', 'b', 'c', 'd', 'e', 'f', 'g', 'h']\n"
     ]
    }
   ],
   "source": [
    "# 3. Using sorted() function, sort the list in ascending order.\n",
    "\n",
    "lst2 = (\"h\", \"b\", \"a\", \"c\", \"f\", \"d\", \"e\", \"g\")\n",
    "\n",
    "Sorted_list = sorted(lst2)\n",
    "\n",
    "print(Sorted_list)"
   ]
  },
  {
   "cell_type": "code",
   "execution_count": 6,
   "id": "21e7aa63",
   "metadata": {},
   "outputs": [
    {
     "name": "stdout",
     "output_type": "stream",
     "text": [
      "[1, 3, 5, 7, 9, 11, 13, 15]\n"
     ]
    }
   ],
   "source": [
    "# 4.Write a program using filter function, filter the even numbers so that only odd numbers are passed to the new list.\n",
    "\n",
    "lst3 = [ 1, 2, 3, 4, 5, 6, 7, 8, 9, 10, 11, 12, 13, 14, 15] \n",
    "\n",
    "new_list = filter(lambda x: x % 2 == 1, lst3)\n",
    "\n",
    "print(list(new_list))"
   ]
  }
 ],
 "metadata": {
  "kernelspec": {
   "display_name": "Python 3",
   "language": "python",
   "name": "python3"
  },
  "language_info": {
   "codemirror_mode": {
    "name": "ipython",
    "version": 3
   },
   "file_extension": ".py",
   "mimetype": "text/x-python",
   "name": "python",
   "nbconvert_exporter": "python",
   "pygments_lexer": "ipython3",
   "version": "3.9.5"
  }
 },
 "nbformat": 4,
 "nbformat_minor": 5
}
