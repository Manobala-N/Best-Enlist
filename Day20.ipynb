{
 "cells": [
  {
   "cell_type": "code",
   "execution_count": 1,
   "id": "df257daa",
   "metadata": {},
   "outputs": [],
   "source": [
    "import mysql.connector\n",
    "\n",
    "mydb = mysql.connector.connect(\n",
    "  host=\"localhost\",\n",
    "  user=\"root\",\n",
    "  password=\"Manobala@30\",\n",
    ")\n",
    "\n",
    "mycursor = mydb.cursor()"
   ]
  },
  {
   "cell_type": "code",
   "execution_count": 2,
   "id": "e8e750a4",
   "metadata": {},
   "outputs": [],
   "source": [
    "dbse = mydb.cursor()\n",
    "\n",
    "dbse.execute(\"CREATE DATABASE Employee_Database\")"
   ]
  },
  {
   "cell_type": "code",
   "execution_count": 5,
   "id": "c9494797",
   "metadata": {},
   "outputs": [],
   "source": [
    "mydb = mysql.connector.connect(\n",
    "  host=\"localhost\",\n",
    " user=\"root\",\n",
    "  password=\"Manobala@30\",\n",
    "  database=\"Employee_Database\"\n",
    ")\n",
    "dbse = mydb.cursor()\n",
    "dbse.execute(\"CREATE TABLE Employee (EMPLOYEE_NAME VARCHAR(255),id INT,SALARY DOUBLE )\")"
   ]
  },
  {
   "cell_type": "code",
   "execution_count": 6,
   "id": "3a9f7fdd",
   "metadata": {},
   "outputs": [
    {
     "name": "stdout",
     "output_type": "stream",
     "text": [
      "10 was inserted.\n"
     ]
    }
   ],
   "source": [
    "dbse = mydb.cursor()\n",
    "\n",
    "sql = \"INSERT INTO Employee (EMPLOYEE_NAME , id , SALARY) VALUES (%s,%s,%s)\"\n",
    "val = [\n",
    "    ('Akash' , '1' , '240000'),\n",
    "    ('Sai' , '2' , '150000'),\n",
    "    ('Ram' , '3' , '280000'),\n",
    "    ('Ramya','4','180000'),\n",
    "    ('Raghav','5','320000'),\n",
    "    ('Zoya' , '6' , '210000'),\n",
    "    ('Vicky' , '7' , '300000'),\n",
    "    ('Max' , '8' , '280000'),\n",
    "    ('Subiksha' , '9' , '380000'),\n",
    "    ('Kayal' , '10' , '200000')\n",
    "       \n",
    "]\n",
    "\n",
    "dbse.executemany(sql, val)\n",
    "\n",
    "mydb.commit()\n",
    "\n",
    "print(dbse.rowcount, \"was inserted.\")"
   ]
  },
  {
   "cell_type": "code",
   "execution_count": 8,
   "id": "e82f8a35",
   "metadata": {},
   "outputs": [
    {
     "name": "stdout",
     "output_type": "stream",
     "text": [
      "('Subiksha', 380000.0)\n"
     ]
    }
   ],
   "source": [
    "mycursor = mydb.cursor()\n",
    "\n",
    "mycursor.execute(\"SELECT EMPLOYEE_NAME,SALARY FROM Employee where SALARY = (select max(SALARY) from Employee)\")\n",
    "\n",
    "myresult = mycursor.fetchall()\n",
    "\n",
    "for x in myresult:\n",
    "    print(x)"
   ]
  },
  {
   "cell_type": "code",
   "execution_count": 12,
   "id": "f1261c1d",
   "metadata": {},
   "outputs": [
    {
     "name": "stdout",
     "output_type": "stream",
     "text": [
      "('Sai', 150000.0)\n"
     ]
    }
   ],
   "source": [
    "mycursor = mydb.cursor()\n",
    "\n",
    "mycursor.execute(\"SELECT EMPLOYEE_NAME,SALARY FROM Employee where SALARY = (select min(SALARY) from employee)\")\n",
    "\n",
    "myresult = mycursor.fetchall()\n",
    "\n",
    "for x in myresult:\n",
    "    print(x)"
   ]
  },
  {
   "cell_type": "code",
   "execution_count": 13,
   "id": "34ed31e5",
   "metadata": {},
   "outputs": [
    {
     "name": "stdout",
     "output_type": "stream",
     "text": [
      "(10,)\n"
     ]
    }
   ],
   "source": [
    "mycursor = mydb.cursor()\n",
    "\n",
    "mycursor.execute(\"SELECT COUNT(*) from Employee\")\n",
    "\n",
    "myresult = mycursor.fetchall()\n",
    "\n",
    "for x in myresult:\n",
    "    print(x)"
   ]
  },
  {
   "cell_type": "code",
   "execution_count": 16,
   "id": "b174e91a",
   "metadata": {},
   "outputs": [
    {
     "name": "stdout",
     "output_type": "stream",
     "text": [
      "('Aka',)\n"
     ]
    }
   ],
   "source": [
    "mycursor = mydb.cursor()\n",
    "\n",
    "mycursor.execute(\"SELECT SUBSTRING(EMPLOYEE_NAME, 1, 3 ) FROM EMPLOYEE \")\n",
    "\n",
    "myresult = mycursor.fetchone()\n",
    "\n",
    "print(myresult)"
   ]
  }
 ],
 "metadata": {
  "kernelspec": {
   "display_name": "Python 3",
   "language": "python",
   "name": "python3"
  },
  "language_info": {
   "codemirror_mode": {
    "name": "ipython",
    "version": 3
   },
   "file_extension": ".py",
   "mimetype": "text/x-python",
   "name": "python",
   "nbconvert_exporter": "python",
   "pygments_lexer": "ipython3",
   "version": "3.9.5"
  }
 },
 "nbformat": 4,
 "nbformat_minor": 5
}
