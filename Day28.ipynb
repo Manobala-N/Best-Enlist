{
 "cells": [
  {
   "cell_type": "code",
   "execution_count": 1,
   "id": "dea7a8c0",
   "metadata": {},
   "outputs": [
    {
     "name": "stdout",
     "output_type": "stream",
     "text": [
      "\n",
      "Starting Thread\n",
      "Starting Thread\n",
      "Thread[2]: 2021-07-13\n",
      "Exiting Thread\n",
      "\n",
      "Thread[1]: 2021-07-13\n",
      "Exiting Thread\n",
      "\n",
      "Exiting the Program!!!\n"
     ]
    }
   ],
   "source": [
    "#Python multithreading example to print current date.\n",
    "#1. Define a subclass using threading.Thread class.\n",
    "#2. Instantiate the subclass and trigger the thread.\n",
    "\n",
    "import threading\n",
    "import datetime\n",
    "\n",
    "class myThread (threading.Thread):\n",
    "    def __init__(self, name, counter):\n",
    "        threading.Thread.__init__(self)\n",
    "        self.threadID = counter\n",
    "        self.name = name\n",
    "        self.counter = counter\n",
    "    def run(self):\n",
    "        print(\"\\nStarting \" + self.name)\n",
    "        print_date(self.name, self.counter)\n",
    "        print(\"Exiting \" + self.name)\n",
    "\n",
    "def print_date(threadName, counter):\n",
    "    datefields = []\n",
    "    today = datetime.date.today()\n",
    "    datefields.append(today)\n",
    "    print(\"{}[{}]: {}\".format( threadName, counter, datefields[0] ))\n",
    "\n",
    "# Create new threads\n",
    "thread1 = myThread(\"Thread\", 1)\n",
    "thread2 = myThread(\"Thread\", 2)\n",
    "\n",
    "# Start new Threads\n",
    "thread1.start()\n",
    "thread2.start()\n",
    "\n",
    "thread1.join()\n",
    "thread2.join()\n",
    "print(\"\\nExiting the Program!!!\")"
   ]
  }
 ],
 "metadata": {
  "kernelspec": {
   "display_name": "Python 3",
   "language": "python",
   "name": "python3"
  },
  "language_info": {
   "codemirror_mode": {
    "name": "ipython",
    "version": 3
   },
   "file_extension": ".py",
   "mimetype": "text/x-python",
   "name": "python",
   "nbconvert_exporter": "python",
   "pygments_lexer": "ipython3",
   "version": "3.9.5"
  }
 },
 "nbformat": 4,
 "nbformat_minor": 5
}
