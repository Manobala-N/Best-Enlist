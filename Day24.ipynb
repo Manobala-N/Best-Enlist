{
 "cells": [
  {
   "cell_type": "code",
   "execution_count": 1,
   "id": "26eb06e5",
   "metadata": {},
   "outputs": [],
   "source": [
    "import json"
   ]
  },
  {
   "cell_type": "code",
   "execution_count": 17,
   "id": "a77f6fd7",
   "metadata": {},
   "outputs": [],
   "source": [
    "json_data=[\n",
    "     {'Student':\"Akash\",'age':19,'Fees_paid': True ,'CGPA':75.00},\n",
    "     {'Student':\"Rio\",'age':11, 'Fees_paid':False,'CGPA':68.75},\n",
    "     {'Student':\"Zoya\",'age':14,'Fees_paid':True,'CGPA':78.50},\n",
    "     {'Student':\"Yazh\",'age':13,'Fees_paid':True,'CGPA':68.25},\n",
    "     {'Student':\"Rakki\",'age':21,'Fees_paid':True,'CGPA':72.65},\n",
    "     {'Student':\"Amit\",'age':17,'Fees_paid':True,'CGPA':67.35}\n",
    "    \n",
    "]"
   ]
  },
  {
   "cell_type": "code",
   "execution_count": 18,
   "id": "47652887",
   "metadata": {},
   "outputs": [],
   "source": [
    "json_string =json.dumps(json_data)"
   ]
  },
  {
   "cell_type": "code",
   "execution_count": 8,
   "id": "b6081c02",
   "metadata": {},
   "outputs": [],
   "source": [
    "import mysql.connector"
   ]
  },
  {
   "cell_type": "code",
   "execution_count": 9,
   "id": "05bcef13",
   "metadata": {},
   "outputs": [],
   "source": [
    "mydb = mysql.connector.connect(\n",
    "  host=\"localhost\",\n",
    "  user=\"root\",\n",
    "  password=\" \"\n",
    ")"
   ]
  },
  {
   "cell_type": "code",
   "execution_count": 11,
   "id": "25b506f5",
   "metadata": {},
   "outputs": [],
   "source": [
    "dbse = mydb.cursor()\n",
    "\n",
    "dbse.execute(\"CREATE DATABASE Student_JSONRECORDS\")"
   ]
  },
  {
   "cell_type": "code",
   "execution_count": 14,
   "id": "f753fbdf",
   "metadata": {},
   "outputs": [],
   "source": [
    "mydb = mysql.connector.connect(\n",
    "  host=\"localhost\",\n",
    " user=\"root\",\n",
    "  password=\"Manobala@30\",\n",
    "  database=\"Student_JSONRECORDS\"\n",
    ")\n",
    "dbse = mydb.cursor()\n",
    "\n",
    "dbse.execute(\"CREATE TABLE Student (Student VARCHAR(255),age INT, Fees_paid VARCHAR(255), CGPA DOUBLE)\")"
   ]
  },
  {
   "cell_type": "code",
   "execution_count": 20,
   "id": "86e2ed24",
   "metadata": {},
   "outputs": [
    {
     "name": "stdout",
     "output_type": "stream",
     "text": [
      "Sucessfully inserted json files to DB\n"
     ]
    }
   ],
   "source": [
    "dbse = mydb.cursor()\n",
    "sql = \"INSERT INTO employee (Student,age,Fees_paid,CGPA) VALUES (%s,%S,%S,%S)\"\n",
    "value=(for i in res: res[i])\n",
    "                         \n",
    "dbse.execute( sql, value)\n",
    "\n",
    "print(\"Sucessfully inserted json files to DB\")"
   ]
  }
 ],
 "metadata": {
  "kernelspec": {
   "display_name": "Python 3",
   "language": "python",
   "name": "python3"
  },
  "language_info": {
   "codemirror_mode": {
    "name": "ipython",
    "version": 3
   },
   "file_extension": ".py",
   "mimetype": "text/x-python",
   "name": "python",
   "nbconvert_exporter": "python",
   "pygments_lexer": "ipython3",
   "version": "3.9.5"
  }
 },
 "nbformat": 4,
 "nbformat_minor": 5
}
