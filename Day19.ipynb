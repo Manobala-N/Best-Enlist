{
 "cells": [
  {
   "cell_type": "code",
   "execution_count": 1,
   "id": "5c1cd67d",
   "metadata": {},
   "outputs": [
    {
     "data": {
      "text/html": [
       "<div>\n",
       "<style scoped>\n",
       "    .dataframe tbody tr th:only-of-type {\n",
       "        vertical-align: middle;\n",
       "    }\n",
       "\n",
       "    .dataframe tbody tr th {\n",
       "        vertical-align: top;\n",
       "    }\n",
       "\n",
       "    .dataframe thead th {\n",
       "        text-align: right;\n",
       "    }\n",
       "</style>\n",
       "<table border=\"1\" class=\"dataframe\">\n",
       "  <thead>\n",
       "    <tr style=\"text-align: right;\">\n",
       "      <th></th>\n",
       "      <th>Student Name</th>\n",
       "      <th>Class</th>\n",
       "      <th>Section</th>\n",
       "      <th>Roll_no</th>\n",
       "      <th>CGPA</th>\n",
       "    </tr>\n",
       "  </thead>\n",
       "  <tbody>\n",
       "    <tr>\n",
       "      <th>0</th>\n",
       "      <td>Akash</td>\n",
       "      <td>12</td>\n",
       "      <td>A</td>\n",
       "      <td>13</td>\n",
       "      <td>9.3</td>\n",
       "    </tr>\n",
       "    <tr>\n",
       "      <th>1</th>\n",
       "      <td>Ram</td>\n",
       "      <td>11</td>\n",
       "      <td>C</td>\n",
       "      <td>20</td>\n",
       "      <td>8.5</td>\n",
       "    </tr>\n",
       "    <tr>\n",
       "      <th>2</th>\n",
       "      <td>Ragav</td>\n",
       "      <td>12</td>\n",
       "      <td>B</td>\n",
       "      <td>21</td>\n",
       "      <td>8.9</td>\n",
       "    </tr>\n",
       "    <tr>\n",
       "      <th>3</th>\n",
       "      <td>Gautham</td>\n",
       "      <td>10</td>\n",
       "      <td>A</td>\n",
       "      <td>7</td>\n",
       "      <td>7.8</td>\n",
       "    </tr>\n",
       "    <tr>\n",
       "      <th>4</th>\n",
       "      <td>Abu</td>\n",
       "      <td>11</td>\n",
       "      <td>D</td>\n",
       "      <td>1</td>\n",
       "      <td>8.3</td>\n",
       "    </tr>\n",
       "    <tr>\n",
       "      <th>5</th>\n",
       "      <td>Danny</td>\n",
       "      <td>11</td>\n",
       "      <td>A</td>\n",
       "      <td>5</td>\n",
       "      <td>9.0</td>\n",
       "    </tr>\n",
       "    <tr>\n",
       "      <th>6</th>\n",
       "      <td>Qureshi</td>\n",
       "      <td>10</td>\n",
       "      <td>B</td>\n",
       "      <td>3</td>\n",
       "      <td>8.8</td>\n",
       "    </tr>\n",
       "    <tr>\n",
       "      <th>7</th>\n",
       "      <td>Subiksha</td>\n",
       "      <td>12</td>\n",
       "      <td>A</td>\n",
       "      <td>31</td>\n",
       "      <td>8.5</td>\n",
       "    </tr>\n",
       "    <tr>\n",
       "      <th>8</th>\n",
       "      <td>Feroz</td>\n",
       "      <td>11</td>\n",
       "      <td>B</td>\n",
       "      <td>27</td>\n",
       "      <td>7.9</td>\n",
       "    </tr>\n",
       "    <tr>\n",
       "      <th>9</th>\n",
       "      <td>Ramya</td>\n",
       "      <td>12</td>\n",
       "      <td>E</td>\n",
       "      <td>35</td>\n",
       "      <td>9.6</td>\n",
       "    </tr>\n",
       "  </tbody>\n",
       "</table>\n",
       "</div>"
      ],
      "text/plain": [
       "  Student Name  Class Section  Roll_no  CGPA\n",
       "0        Akash     12       A       13   9.3\n",
       "1          Ram     11       C       20   8.5\n",
       "2        Ragav     12       B       21   8.9\n",
       "3      Gautham     10       A        7   7.8\n",
       "4          Abu     11       D        1   8.3\n",
       "5        Danny     11       A        5   9.0\n",
       "6      Qureshi     10       B        3   8.8\n",
       "7     Subiksha     12       A       31   8.5\n",
       "8        Feroz     11       B       27   7.9\n",
       "9        Ramya     12       E       35   9.6"
      ]
     },
     "execution_count": 1,
     "metadata": {},
     "output_type": "execute_result"
    }
   ],
   "source": [
    "import pandas as pd\n",
    "pd.read_excel('SDB.xlsx')"
   ]
  },
  {
   "cell_type": "code",
   "execution_count": 2,
   "id": "ea8fad2e",
   "metadata": {},
   "outputs": [
    {
     "name": "stdout",
     "output_type": "stream",
     "text": [
      "<mysql.connector.connection.MySQLConnection object at 0x000001E7265AC970>\n"
     ]
    }
   ],
   "source": [
    "import mysql.connector\n",
    "\n",
    "mydb = mysql.connector.connect(\n",
    "  host=\"localhost\",\n",
    " user=\"root\",\n",
    "  password=\"\",\n",
    ")\n",
    "\n",
    "mycursor = mydb.cursor()\n",
    "print(mydb)"
   ]
  },
  {
   "cell_type": "code",
   "execution_count": 25,
   "id": "55a97ccb",
   "metadata": {},
   "outputs": [],
   "source": [
    "dbse = mydb.cursor()\n",
    "\n",
    "dbse.execute(\"CREATE DATABASE Students_Management_Systems\")"
   ]
  },
  {
   "cell_type": "code",
   "execution_count": 6,
   "id": "389efe38",
   "metadata": {},
   "outputs": [],
   "source": [
    "mydb = mysql.connector.connect(\n",
    "  host=\"localhost\",\n",
    " user=\"root\",\n",
    "  password=\"\",\n",
    "  database=\"students_management_system\"\n",
    ")\n",
    "dbse = mydb.cursor()\n",
    "\n",
    "dbse.execute(\"CREATE TABLE student (Student VARCHAR(250),Class INT(10),Section VARCHAR(10), Roll_no INT(25), CGPA INT(35))\")"
   ]
  },
  {
   "cell_type": "code",
   "execution_count": 7,
   "id": "de0f1125",
   "metadata": {},
   "outputs": [
    {
     "name": "stdout",
     "output_type": "stream",
     "text": [
      "('student',)\n"
     ]
    }
   ],
   "source": [
    "dbse = mydb.cursor()\n",
    "\n",
    "dbse.execute(\"SHOW TABLES\")\n",
    "\n",
    "for value in dbse:\n",
    "  print(value)"
   ]
  },
  {
   "cell_type": "code",
   "execution_count": 9,
   "id": "72d149e9",
   "metadata": {},
   "outputs": [],
   "source": [
    "cur = mydb.cursor()\n",
    "cur.execute('SELECT * FROM student')\n",
    "for row in cur:\n",
    "    print(row)"
   ]
  },
  {
   "cell_type": "code",
   "execution_count": 10,
   "id": "75513d16",
   "metadata": {},
   "outputs": [],
   "source": [
    "import pandas as pd\n",
    "\n",
    "df = pd.read_excel('SDB.xlsx')"
   ]
  },
  {
   "cell_type": "code",
   "execution_count": 15,
   "id": "18b65d0c",
   "metadata": {},
   "outputs": [
    {
     "data": {
      "text/plain": [
       "<xlrd.book.Book at 0x1e72660ab20>"
      ]
     },
     "execution_count": 15,
     "metadata": {},
     "output_type": "execute_result"
    }
   ],
   "source": [
    "import xlrd\n",
    "import MySQLdb\n",
    "xl_sheet = xlrd.open_workbook(\"SDB.xls\")\n",
    "xl_sheet"
   ]
  },
  {
   "cell_type": "code",
   "execution_count": 16,
   "id": "0f6226ab",
   "metadata": {},
   "outputs": [
    {
     "data": {
      "text/plain": [
       "['Sheet1']"
      ]
     },
     "execution_count": 16,
     "metadata": {},
     "output_type": "execute_result"
    }
   ],
   "source": [
    "sheet_name =xl_sheet.sheet_names()\n",
    "sheet_name"
   ]
  },
  {
   "cell_type": "code",
   "execution_count": 19,
   "id": "f308af32",
   "metadata": {},
   "outputs": [],
   "source": [
    "mydb = mysql.connector.connect(\n",
    "  host=\"localhost\",\n",
    " user=\"root\",\n",
    "  password=\"\",\n",
    "  database=\"students_management_system\"\n",
    ")\n",
    "\n",
    "cur = mydb.cursor()\n",
    "for s in range(0,1):\n",
    "    sheet=xl_sheet.sheet_by_index(s)\n",
    "    sql= \"INSERT INTO student(Student, Class, Section, Roll_no , CGPA ) VALUES(%s,%s,%s,%s,%s)\"\n",
    "    for r in range(1,sheet.nrows):\n",
    "        Student =sheet.cell(r,0).value\n",
    "        Class =sheet.cell(r,1).value\n",
    "        Section =sheet.cell(r,2).value\n",
    "        Roll_no=sheet.cell(r,3).value\n",
    "        CGPA =sheet.cell(r,4).value\n",
    "      \n",
    "        values =(Student, Class, Section, Roll_no , CGPA )\n",
    "        \n",
    "        cur.execute(sql,values)\n",
    "mydb.commit()"
   ]
  },
  {
   "cell_type": "code",
   "execution_count": 21,
   "id": "0e6c9138",
   "metadata": {},
   "outputs": [
    {
     "name": "stdout",
     "output_type": "stream",
     "text": [
      "('Akash', 12, 'A', 13, 9)\n",
      "('Ram', 11, 'C', 20, 9)\n",
      "('Ragav', 12, 'B', 21, 9)\n",
      "('Gautham', 10, 'A', 7, 8)\n",
      "('Abu', 11, 'D', 1, 8)\n",
      "('Danny', 11, 'A', 5, 9)\n",
      "('Qureshi', 10, 'B', 3, 9)\n",
      "('Subiksha', 12, 'A', 31, 9)\n",
      "('Feroz', 11, 'B', 27, 8)\n",
      "('Ramya', 12, 'E', 35, 10)\n"
     ]
    }
   ],
   "source": [
    "mycursor = mydb.cursor()\n",
    "\n",
    "mycursor.execute(\"SELECT * FROM student\")\n",
    "\n",
    "myresult = mycursor.fetchall()\n",
    "\n",
    "for x in myresult:\n",
    "    print(x)"
   ]
  },
  {
   "cell_type": "code",
   "execution_count": 24,
   "id": "07c88c54",
   "metadata": {},
   "outputs": [
    {
     "name": "stdout",
     "output_type": "stream",
     "text": [
      "('Akash',)\n",
      "('Ram',)\n",
      "('Ragav',)\n",
      "('Danny',)\n",
      "('Qureshi',)\n",
      "('Subiksha',)\n",
      "('Ramya',)\n"
     ]
    }
   ],
   "source": [
    "mycursor = mydb.cursor()\n",
    "\n",
    "mycursor.execute(\"SELECT Student FROM student WHERE CGPA >8\")\n",
    "\n",
    "myresult = mycursor.fetchall()\n",
    "\n",
    "for x in myresult:\n",
    "    print(x)"
   ]
  }
 ],
 "metadata": {
  "kernelspec": {
   "display_name": "Python 3",
   "language": "python",
   "name": "python3"
  },
  "language_info": {
   "codemirror_mode": {
    "name": "ipython",
    "version": 3
   },
   "file_extension": ".py",
   "mimetype": "text/x-python",
   "name": "python",
   "nbconvert_exporter": "python",
   "pygments_lexer": "ipython3",
   "version": "3.9.5"
  }
 },
 "nbformat": 4,
 "nbformat_minor": 5
}
